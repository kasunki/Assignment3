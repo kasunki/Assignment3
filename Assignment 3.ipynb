{
 "cells": [
  {
   "cell_type": "markdown",
   "id": "49974115",
   "metadata": {},
   "source": [
    "# Assignment 3\n",
    "## Ketiyape Samarasekara Kasunki Sandunika Samarasekara\n",
    "### 2023.02.27"
   ]
  },
  {
   "cell_type": "markdown",
   "id": "463f9f2d",
   "metadata": {},
   "source": [
    "## 1."
   ]
  },
  {
   "cell_type": "code",
   "execution_count": 89,
   "id": "2f2e4286",
   "metadata": {},
   "outputs": [
    {
     "name": "stdout",
     "output_type": "stream",
     "text": [
      "30\n"
     ]
    }
   ],
   "source": [
    "product = lambda x,y : x*y\n",
    "result =  product (5,6)\n",
    "print (result)"
   ]
  },
  {
   "cell_type": "markdown",
   "id": "931b0b2b",
   "metadata": {},
   "source": [
    "## 2."
   ]
  },
  {
   "cell_type": "code",
   "execution_count": 90,
   "id": "de88d781",
   "metadata": {},
   "outputs": [
    {
     "name": "stdout",
     "output_type": "stream",
     "text": [
      "314.1592653589793\n"
     ]
    }
   ],
   "source": [
    "import math\n",
    "def area_of_circle(radius):\n",
    "    area = math.pi*radius**2\n",
    "    return area\n",
    "radius = 10\n",
    "area = area_of_circle(radius)\n",
    "print (area)"
   ]
  },
  {
   "cell_type": "markdown",
   "id": "d8eee935",
   "metadata": {},
   "source": [
    "## 3."
   ]
  },
  {
   "cell_type": "code",
   "execution_count": 91,
   "id": "2bfac8b9",
   "metadata": {},
   "outputs": [
    {
     "name": "stdout",
     "output_type": "stream",
     "text": [
      "0.4\n"
     ]
    }
   ],
   "source": [
    "def calculator(num1, num2, operation):\n",
    "    if operation == 'a':\n",
    "        result = num1 + num2\n",
    "    elif operation == 's':\n",
    "        result = num1 - num2\n",
    "    elif operation == 'm':\n",
    "        result = num1 * num2\n",
    "    elif operation == 'd':\n",
    "        result = num1 / num2\n",
    "    else:\n",
    "        print('invalid operation')\n",
    "        return\n",
    "    return result\n",
    "\n",
    "result = calculator(2,5,'d')\n",
    "print (result)"
   ]
  },
  {
   "cell_type": "markdown",
   "id": "1f6ec9dc",
   "metadata": {},
   "source": [
    "## 4."
   ]
  },
  {
   "cell_type": "code",
   "execution_count": 92,
   "id": "d860894d",
   "metadata": {},
   "outputs": [
    {
     "name": "stdout",
     "output_type": "stream",
     "text": [
      "50\n"
     ]
    }
   ],
   "source": [
    "class Rectangle:\n",
    "    def __init__(self, length, width):\n",
    "        self.length = length \n",
    "        self.width = width\n",
    "    \n",
    "    def area(self):\n",
    "        return self.length * self.width\n",
    "    \n",
    "r = Rectangle(5, 10)\n",
    "result = r.area()\n",
    "print(result)"
   ]
  },
  {
   "cell_type": "markdown",
   "id": "90cd352b",
   "metadata": {},
   "source": [
    "## 5."
   ]
  },
  {
   "cell_type": "code",
   "execution_count": 93,
   "id": "05b8a6f1",
   "metadata": {},
   "outputs": [
    {
     "name": "stdout",
     "output_type": "stream",
     "text": [
      "The area is:\n",
      "25\n",
      "This is a: square\n"
     ]
    }
   ],
   "source": [
    "class Shape:\n",
    "    def __init__(self, name, length):\n",
    "        self.name = name\n",
    "        self.length = length\n",
    "        \n",
    "    def area(self):\n",
    "        return 0\n",
    "        \n",
    "class Square(Shape):\n",
    "    def __init__(self, name, length):\n",
    "        super().__init__(name,length)\n",
    "                \n",
    "    def area(self):\n",
    "        return self.length ** 2\n",
    "        \n",
    "    def describe(self):\n",
    "        return 'This is a: ' + self.name\n",
    "                \n",
    "s = Square('square',5)\n",
    "print('The area is:')\n",
    "print(s.area())\n",
    "print(s.describe())"
   ]
  },
  {
   "cell_type": "code",
   "execution_count": null,
   "id": "a105d57f",
   "metadata": {},
   "outputs": [],
   "source": []
  },
  {
   "cell_type": "code",
   "execution_count": null,
   "id": "f34cf1cc",
   "metadata": {},
   "outputs": [],
   "source": []
  }
 ],
 "metadata": {},
 "nbformat": 4,
 "nbformat_minor": 5
}
